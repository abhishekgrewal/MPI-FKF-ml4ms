{
 "cells": [
  {
   "cell_type": "markdown",
   "metadata": {},
   "source": [
    "# (5) Perceptrons, logic gates, and the need for larger artificial neural networks\n",
    "\n",
    "## introduction to machine learning for materials science\n",
    "\n",
    "The single-neuron perceptron is only capable of classifying two linearly separable classes, i.e. two sets of data points that can be divided by a (hyper)plane. This is intuitively easy to understand as the weights and bias of the perceptron with only one neuron can only span one single plane that divides space into two decision regions. Here we will show how a network with more neurons can separate more than two classes.\n",
    "\n",
    "[Logic gates](https://en.wikipedia.org/wiki/Logic_gate) are a devices that perform Boolean operations. In simple terms, a binary input $\\{0, 1\\}$ is mapped onto a single-value output, also of value $0$ or $1$. $0$ and $1$ can be interpreted as *false*/*true*. They can be physically implemented in devices such as transistors, where $0$ could be no current flowing, the *off*-state, and $1$ as the *on*-state with current flowing through the device. Typical examples are *AND* and *OR* operations, which are best explained with the help of truth tables. The *AND*-operation returns the value $1$ only when the two inputs $X1$ and $X2$ equal $1$, and $0$ otherwise. The *OR*-operation returns $1$ already of any one of the two inputs equals $1$, and $0$ only if both inputs are $0$. \n",
    "\n",
    "These operations can be graphically visualized with the x-axis taking the values of $X1$ and the y-axis the values of $X2$. The truth-value of the output can be color-coded. In the following, orange demarks the value $0$ and blue the value $1$ of the output.\n",
    "\n",
    "\n",
    "| X1 | X2  | AND |\n",
    "|:---|:---:| ------:|\n",
    "| 0  | 0   | 0      |\n",
    "| 0  | 1   | 0      |\n",
    "| 1  | 0   | 0      |\n",
    "| 1  | 1   | 1      |\n",
    "\n",
    "\n",
    "| X1 | X2  | OR |\n",
    "|:---|:---:| ------:|\n",
    "| 0  | 0   | 0      |\n",
    "| 0  | 1   | 1      |\n",
    "| 1  | 0   | 1      |\n",
    "| 1  | 1   | 1      |\n",
    "\n",
    "\n",
    "The *AND*-operation returns the value $1$ only when the two inputs $X1$ and $X2$ equal $1$, and $0$ otherwise. The *OR*-operation returns $1$ already of any one of the two inputs equals $1$, and $0$ only if both inputs are $0$. \n",
    "\n",
    "These operations can be graphically visualized with the x-axis taking the values of $X1$ and the y-axis the values of $X2$. The truth value of the output can be color coded. In the following, orange demarks the value $0$ and blue the value $1$ of the output."
   ]
  },
  {
   "cell_type": "code",
   "execution_count": 14,
   "metadata": {},
   "outputs": [
    {
     "data": {
      "image/png": "[encoded data removed]",
      "text/plain": [
       "<Figure size 648x216 with 2 Axes>"
      ]
     },
     "metadata": {
      "needs_background": "light"
     },
     "output_type": "display_data"
    }
   ],
   "source": [
    "import numpy as np\n",
    "import matplotlib\n",
    "import matplotlib.pyplot as plt\n",
    "\n",
    "X_AND = np.array([[0, 0], [1, 0], [0, 1], [1, 1]])\n",
    "y_AND = np.array([0, 0, 0, 1])\n",
    "\n",
    "X_OR = np.array([[0, 0], [1, 0], [0, 1], [1, 1]])\n",
    "y_OR = np.array([0, 1, 1, 1])\n",
    "\n",
    "\n",
    "plt.figure(figsize=(9, 3))\n",
    "\n",
    "plt.subplot(121)\n",
    "for i in range(4):\n",
    "    plt.plot(X_AND[i,0], X_AND[i,1], 'o', markersize=12, \n",
    "             c=np.where(y_AND[i]<1,(1.0, 0.5, 0.25, 1.0),(0.0, 0.0, 0.75, 1.0)))\n",
    "    i = i+1\n",
    "\n",
    "    plt.gca().set_aspect('equal')\n",
    "plt.xticks((0,1))\n",
    "plt.yticks((0,1))\n",
    "plt.title('AND')\n",
    "plt.xlabel('input X1')\n",
    "plt.ylabel('input X2')\n",
    "\n",
    "\n",
    "plt.subplot(122)\n",
    "for i in range(4):\n",
    "    plt.plot(X_OR[i,0], X_OR[i,1], 'o', markersize=12, \n",
    "             c=np.where(y_OR[i]<1,(1.0, 0.5, 0.25, 1.0),(0.0, 0.0, 0.75, 1.0)))\n",
    "    i = i+1\n",
    "plt.gca().set_aspect('equal')\n",
    "plt.xticks((0,1))\n",
    "plt.yticks((0,1))\n",
    "plt.title('OR')\n",
    "plt.xlabel('input X1')\n",
    "plt.ylabel('input X2')\n",
    "\n",
    "plt.show()"
   ]
  },
  {
   "cell_type": "markdown",
   "metadata": {},
   "source": [
    "It is obvious that the $\\{0,1\\}$ output values can be separated by a straight line, so a perceptron should be able to learn this (decision) boundary automatically. The following code will just do this, find the weights and bias such that the perceptron can classify the input and returns the desired mapping of *AND* or *OR*. The perceptron thus acts as a binary logic gate."
   ]
  },
  {
   "cell_type": "code",
   "execution_count": 2,
   "metadata": {},
   "outputs": [],
   "source": [
    "#defining helper functions for later use\n",
    "\n",
    "import numpy as np\n",
    "\n",
    "#the function 'initialize_weights' sets the parameters w, b to random number close to zero\n",
    "#slightly modified, the weight vector w is now defined as a column vector.\n",
    "\n",
    "def initialize_weights(dim):\n",
    "    np.random.seed()\n",
    "    w = np.random.randn(dim, 1)*0.01\n",
    "    b = 0\n",
    "    return w, b\n",
    "\n",
    "#the function 'forward' calculates w*X+b, the weighted sum, which ideally should be equal to y.\n",
    "#also slightly modified, before calculating the dot product of w and X, w needs to be transposed into a row vector\n",
    "\n",
    "def forward(X_,w_,b_):\n",
    "    Z = np.dot(w_.T,X_)+b_\n",
    "    return Z\n",
    "\n",
    "#using the Sigmoid function as activation function\n",
    "#this function is new and will be used in the classifier perceptron\n",
    "\n",
    "def activation(Z):\n",
    "    A = 1/(1+np.exp(-Z))\n",
    "    return A\n",
    "\n",
    "#a function that maps an input to the binary classifier 0 or 1\n",
    "#since the output of the sigmoid function is not strictly 0 or 1, we pass it through this function\n",
    "#if the output of the sigmoid function is closer to zero, then 0 is returned. if it is closer to one, 1 is returned.\n",
    "def predict(A):\n",
    "    pred = 1.0 if A >= 0.5 else 0.0\n",
    "    return pred"
   ]
  },
  {
   "cell_type": "markdown",
   "metadata": {},
   "source": [
    "And here comes the perceptron code as used previously."
   ]
  },
  {
   "cell_type": "code",
   "execution_count": 3,
   "metadata": {},
   "outputs": [],
   "source": [
    "def perceptron_classifier(X, y, eta, n_epochs):\n",
    "    \n",
    "    #first thing is to initialize the parameter w and b.\n",
    "    #this is done calling the external function 'initialize_weights'\n",
    "    \n",
    "    w, b = initialize_weights(X.shape[1])\n",
    "    \n",
    "    #loop over the number of training cylces (n_epochs)\n",
    "    for epoch in range(n_epochs):\n",
    "        sum_error = 0.0\n",
    "        \n",
    "        #loop over all datapoints\n",
    "        for i in range(X.shape[0]):\n",
    "            \n",
    "            #calling the prediction function 'forward' which calculates w*X+b and storing this in the variable 'prediction'\n",
    "            predicted_value = predict(activation(forward(X[i], w, b)))\n",
    "            \n",
    "            #calculating the prediciton error as the difference between the datapoint y and the estimate (w*X+b) \n",
    "            error = y[i]-predicted_value\n",
    "            \n",
    "            #calculating the total error as the sum of squared error of each datapoint\n",
    "            sum_error = sum_error + error**2\n",
    "            \n",
    "            #the follwoing lines are the learning part, where the parameter w & b get updated.\n",
    "            #according to Rosenblatt's rules, b and w get updated once in each epoch for each data point\n",
    "            #the for loop over j cycles through the dimension of the data, here 2 since we have y=f(x1,x2)\n",
    "            \n",
    "            b = b + eta * error\n",
    "            for j in range(X.shape[1]):\n",
    "                w[j] = w[j] + eta * error * X[i][j]\n",
    "                \n",
    "            #end of learning section    \n",
    "                \n",
    "        #printing the total error of each epoch        \n",
    "        print('>epoch=%d, error=%.3f' % (epoch, sum_error))\n",
    "        \n",
    "    return w, b"
   ]
  },
  {
   "cell_type": "markdown",
   "metadata": {},
   "source": [
    "Here comes the new code. The inputs $X$ and outputs $y$ have been defined above for plotting. The four states of $X$ and their correspondingly mapped output of the *AND* gate are used to train the perceptron and find the decision boundary. Ideally, a straight line clearly dividing orange and blue dots is learned and plotted. Each training results in a slightly different line, but the training should always be successful. "
   ]
  },
  {
   "cell_type": "code",
   "execution_count": 16,
   "metadata": {},
   "outputs": [
    {
     "name": "stdout",
     "output_type": "stream",
     "text": [
      ">epoch=0, error=2.000\n",
      ">epoch=1, error=3.000\n",
      ">epoch=2, error=2.000\n",
      ">epoch=3, error=3.000\n",
      ">epoch=4, error=2.000\n",
      ">epoch=5, error=1.000\n",
      ">epoch=6, error=0.000\n",
      ">epoch=7, error=0.000\n",
      ">epoch=8, error=0.000\n",
      ">epoch=9, error=0.000\n",
      "(array([[0.18176703],\n",
      "       [0.20444245]]), -0.30000000000000004)\n"
     ]
    },
    {
     "data": {
      "image/png": "[encoded data removed]",
      "text/plain": [
       "<Figure size 432x288 with 1 Axes>"
      ]
     },
     "metadata": {
      "needs_background": "light"
     },
     "output_type": "display_data"
    }
   ],
   "source": [
    "#learning parameters\n",
    "eta = 0.1\n",
    "n_epochs = 10\n",
    "\n",
    "#training the percpetron on the AND-gate\n",
    "weights_and = perceptron_classifier(X_AND, y_AND, eta, n_epochs)\n",
    "\n",
    "#printing the learned parameters (weights and bias)\n",
    "print(weights_and)\n",
    "\n",
    "#plotting section \n",
    "xtest = np.linspace(0,1,10)\n",
    "ytest = -1/weights_and[0][1] * (weights_and[0][0]*xtest + weights_and[1])\n",
    "\n",
    "plt.plot(xtest,ytest)\n",
    "\n",
    "for i in range(4):\n",
    "    plt.plot(X_AND[i,0], X_AND[i,1], 'o', markersize=12, \n",
    "             c=np.where(y_AND[i]<1,(1.0, 0.5, 0.25, 1.0),(0.0, 0.0, 0.75, 1.0)))\n",
    "             #c=np.where(predict(activation(weights_and[0][0]*X_AND[i,0]+weights_and[0][1]*X_AND[i,1]+weights_and[1]))<0.5,(1.0, 0.5, 0.25, 1.0),(0.0, 0.0, 0.75, 1.0)))\n",
    "    i = i+1\n",
    "       \n",
    "plt.gca().set_aspect('equal')\n",
    "plt.xticks((0,1))\n",
    "plt.yticks((0,1))\n",
    "plt.title('AND')\n",
    "plt.xlabel('input X 1')\n",
    "plt.ylabel('input X 2')\n",
    "\n",
    "plt.show()"
   ]
  },
  {
   "cell_type": "markdown",
   "metadata": {},
   "source": [
    "We can do the same for the *OR* gate."
   ]
  },
  {
   "cell_type": "code",
   "execution_count": 17,
   "metadata": {},
   "outputs": [
    {
     "name": "stdout",
     "output_type": "stream",
     "text": [
      ">epoch=0, error=3.000\n",
      ">epoch=1, error=1.000\n",
      ">epoch=2, error=2.000\n",
      ">epoch=3, error=2.000\n",
      ">epoch=4, error=1.000\n",
      ">epoch=5, error=0.000\n",
      ">epoch=6, error=0.000\n",
      ">epoch=7, error=0.000\n",
      ">epoch=8, error=0.000\n",
      ">epoch=9, error=0.000\n",
      "(array([[0.1905124 ],\n",
      "       [0.19493234]]), -0.1)\n"
     ]
    },
    {
     "data": {
      "image/png": "[encoded data removed]",
      "text/plain": [
       "<Figure size 432x288 with 1 Axes>"
      ]
     },
     "metadata": {
      "needs_background": "light"
     },
     "output_type": "display_data"
    }
   ],
   "source": [
    "#training the percpetron on the OR-gate\n",
    "weights_or = perceptron_classifier(X_OR, y_OR, eta, n_epochs)\n",
    "\n",
    "#printing the learned parameters (weights and bias)\n",
    "print(weights_or)\n",
    "\n",
    "#plotting section\n",
    "xtest = np.linspace(0,1,10)\n",
    "ytest = -1/weights_or[0][1] * (weights_or[0][0]*xtest + weights_or[1])\n",
    "\n",
    "plt.plot(xtest,ytest)\n",
    "\n",
    "for i in range(4):\n",
    "    plt.plot(X_OR[i,0], X_OR[i,1], 'o', markersize=12, \n",
    "             c=np.where(y_OR[i]<1,(1.0, 0.5, 0.25, 1.0),(0.0, 0.0, 0.75, 1.0)))\n",
    "    i = i+1\n",
    "    \n",
    "plt.gca().set_aspect('equal')\n",
    "plt.xticks((0,1))\n",
    "plt.yticks((0,1))\n",
    "plt.title('OR')\n",
    "plt.xlabel('input X 1')\n",
    "plt.ylabel('input X 2')\n",
    "\n",
    "plt.show()"
   ]
  },
  {
   "cell_type": "markdown",
   "metadata": {},
   "source": [
    "A multitude of different logic gates exist, with different mapping of input to output values. One more linearly separable examples are the *NAND* gate, which is the negation of the *AND* gate, i.e. all output values are flipped."
   ]
  },
  {
   "cell_type": "code",
   "execution_count": 19,
   "metadata": {},
   "outputs": [
    {
     "name": "stdout",
     "output_type": "stream",
     "text": [
      ">epoch=0, error=2.000\n",
      ">epoch=1, error=2.000\n",
      ">epoch=2, error=3.000\n",
      ">epoch=3, error=2.000\n",
      ">epoch=4, error=2.000\n",
      ">epoch=5, error=3.000\n",
      ">epoch=6, error=2.000\n",
      ">epoch=7, error=1.000\n",
      ">epoch=8, error=0.000\n",
      ">epoch=9, error=0.000\n",
      "(array([[-0.17981107],\n",
      "       [-0.20690144]]), 0.30000000000000004)\n"
     ]
    },
    {
     "data": {
      "image/png": "[encoded data removed]",
      "text/plain": [
       "<Figure size 432x288 with 1 Axes>"
      ]
     },
     "metadata": {
      "needs_background": "light"
     },
     "output_type": "display_data"
    }
   ],
   "source": [
    "#defining NAND in- and output\n",
    "X_NAND = np.array([[0, 0], [1, 0], [0, 1], [1, 1]])\n",
    "y_NAND = np.array([1, 1, 1, 0])\n",
    "\n",
    "#training the percpetron on the NAND-gate\n",
    "weights_nand = perceptron_classifier(X_NAND, y_NAND, eta, n_epochs)\n",
    "\n",
    "#printing the learned parameters (weights and bias)\n",
    "print(weights_nand)\n",
    "\n",
    "#plotting section\n",
    "xtest = np.linspace(0,1,10)\n",
    "ytest = -1/weights_nand[0][1] * (weights_nand[0][0]*xtest + weights_nand[1])\n",
    "\n",
    "plt.plot(xtest,ytest)\n",
    "\n",
    "for i in range(4):\n",
    "    plt.plot(X_NAND[i,0], X_NAND[i,1], 'o', markersize=12, \n",
    "             c=np.where(y_NAND[i]<1,(1.0, 0.5, 0.25, 1.0),(0.0, 0.0, 0.75, 1.0)))\n",
    "    i = i+1\n",
    "    \n",
    "plt.gca().set_aspect('equal')\n",
    "plt.xticks((0,1))\n",
    "plt.yticks((0,1))\n",
    "plt.title('NAND')\n",
    "plt.xlabel('input X 1')\n",
    "plt.ylabel('input X 2')\n",
    "\n",
    "plt.show()"
   ]
  },
  {
   "cell_type": "markdown",
   "metadata": {},
   "source": [
    "But not all logic gates can be modelled by a single-neuron perceptron. The *XOR* gate, which returns $1$ if only one of the two inputs is $1$, and $0$ otherwise, cannot be learned by the perceptron. After the plot below the expectation values and the predicted values are printed. These do never fully coincide. Even training longer by changing the number of epochs or chaning the learning rate does not improve the situation.\n",
    "\n",
    "| X1 | X2  | XOR |\n",
    "|:---|:---:| ------:|\n",
    "| 0  | 0   | 0      |\n",
    "| 0  | 1   | 1      |\n",
    "| 1  | 0   | 1      |\n",
    "| 1  | 1   | 0      |"
   ]
  },
  {
   "cell_type": "code",
   "execution_count": 20,
   "metadata": {},
   "outputs": [
    {
     "name": "stdout",
     "output_type": "stream",
     "text": [
      ">epoch=0, error=3.000\n",
      ">epoch=1, error=3.000\n",
      ">epoch=2, error=4.000\n",
      ">epoch=3, error=4.000\n",
      ">epoch=4, error=4.000\n",
      ">epoch=5, error=4.000\n",
      ">epoch=6, error=4.000\n",
      ">epoch=7, error=4.000\n",
      ">epoch=8, error=4.000\n",
      ">epoch=9, error=4.000\n",
      "(array([[ 0.0277845],\n",
      "       [-0.0951663]]), 0.0)\n"
     ]
    },
    {
     "data": {
      "image/png": "[encoded data removed]",
      "text/plain": [
       "<Figure size 432x288 with 1 Axes>"
      ]
     },
     "metadata": {
      "needs_background": "light"
     },
     "output_type": "display_data"
    },
    {
     "name": "stdout",
     "output_type": "stream",
     "text": [
      "expected value: 0, predicted value: 1\n",
      "expected value: 1, predicted value: 1\n",
      "expected value: 1, predicted value: 0\n",
      "expected value: 0, predicted value: 0\n"
     ]
    }
   ],
   "source": [
    "#defining XOR in- & output\n",
    "X_XOR = np.array([[0, 0], [1, 0], [0, 1], [1, 1]])\n",
    "y_XOR = np.array([0, 1, 1, 0])\n",
    "\n",
    "#learning parameters\n",
    "eta = 0.1\n",
    "n_epochs = 10\n",
    "\n",
    "#training the percpetron on the XOR-gate\n",
    "weights_xor = perceptron_classifier(X_XOR, y_XOR, eta, n_epochs)\n",
    "\n",
    "#printing the learned parameters (weights and bias)\n",
    "print(weights_xor)\n",
    "\n",
    "#plotting section\n",
    "xtest = np.linspace(0,1,10)\n",
    "ytest = -1/weights_xor[0][1] * (weights_xor[0][0]*xtest + weights_xor[1])\n",
    "\n",
    "plt.plot(xtest,ytest)\n",
    "\n",
    "for i in range(4):\n",
    "    plt.plot(X_XOR[i,0], X_XOR[i,1], 'o', markersize=12, \n",
    "             c=np.where(y_XOR[i]<1,(1.0, 0.5, 0.25, 1.0),(0.0, 0.0, 0.75, 1.0)))\n",
    "    i = i+1\n",
    "    \n",
    "plt.gca().set_aspect('equal')\n",
    "plt.xticks((0,1))\n",
    "plt.yticks((0,1))\n",
    "plt.title('XOR')\n",
    "plt.xlabel('input X 1')\n",
    "plt.ylabel('input X 2')\n",
    "\n",
    "plt.show()\n",
    "\n",
    "#printing expectated and predicted values\n",
    "for i in range(4):\n",
    "    print('expected value: %d, predicted value: %d' %(y_XOR[i], predict(activation(weights_xor[0][0]*X_XOR[i,0]+weights_xor[0][1]*X_XOR[i,1]+weights_xor[1]))))"
   ]
  },
  {
   "cell_type": "markdown",
   "metadata": {},
   "source": [
    "Maybe our implementation of the perceptron is flawed. We can fall back onto established and tested implementations of the [perceptron](https://scikit-learn.org/stable/modules/generated/sklearn.linear_model.Perceptron.html) in the *scikit learn* package and run the training again on the *XOR* gate to see whether the training is improved."
   ]
  },
  {
   "cell_type": "code",
   "execution_count": 21,
   "metadata": {},
   "outputs": [
    {
     "name": "stdout",
     "output_type": "stream",
     "text": [
      "[[ 0. -1.]]\n",
      "[0.]\n"
     ]
    },
    {
     "name": "stderr",
     "output_type": "stream",
     "text": [
      "C:\\Users\\gutzler\\AppData\\Local\\Continuum\\anaconda3\\lib\\site-packages\\sklearn\\linear_model\\stochastic_gradient.py:166: FutureWarning: max_iter and tol parameters have been added in Perceptron in 0.19. If both are left unset, they default to max_iter=5 and tol=None. If tol is not None, max_iter defaults to max_iter=1000. From 0.21, default max_iter will be 1000, and default tol will be 1e-3.\n",
      "  FutureWarning)\n"
     ]
    },
    {
     "data": {
      "image/png": "[encoded data removed]",
      "text/plain": [
       "<Figure size 432x288 with 1 Axes>"
      ]
     },
     "metadata": {
      "needs_background": "light"
     },
     "output_type": "display_data"
    },
    {
     "name": "stdout",
     "output_type": "stream",
     "text": [
      "expected value: 0, predicted value: 0\n",
      "expected value: 1, predicted value: 0\n",
      "expected value: 1, predicted value: 0\n",
      "expected value: 0, predicted value: 0\n"
     ]
    }
   ],
   "source": [
    "#importing the Perceptron model\n",
    "from sklearn.linear_model import Perceptron\n",
    "\n",
    "#calling the perceptron function and fitting it on the XOR data\n",
    "#the model's parameters (weights, etc.) are stored in model_xor\n",
    "sk_perceptron = Perceptron()\n",
    "model_xor = sk_perceptron.fit(X_XOR, y_XOR)\n",
    "\n",
    "\n",
    "#plotting section. the weights and bias values are called using model_xor.coef_ and model_xor.intercept_\n",
    "xtest = np.linspace(0,1,10)\n",
    "ytest = -1/model_xor.coef_[0][1] * (model_xor.coef_[0][0]*xtest + model_xor.intercept_)\n",
    "\n",
    "print(model_xor.coef_)\n",
    "print(model_xor.intercept_)\n",
    "plt.plot(xtest,ytest)\n",
    "for i in range(4):\n",
    "    plt.plot(X_XOR[i,0], X_XOR[i,1], 'o', markersize=12, \n",
    "             c=np.where(y_XOR[i]<1,(1.0, 0.5, 0.25, 1.0),(0.0, 0.0, 0.75, 1.0)))\n",
    "             \n",
    "    i = i+1\n",
    "plt.gca().set_aspect('equal')\n",
    "plt.xticks((0,1))\n",
    "plt.yticks((0,1))\n",
    "plt.title('XOR')\n",
    "plt.xlabel('input X 1')\n",
    "plt.ylabel('input X 2')\n",
    "\n",
    "plt.show()\n",
    "\n",
    "for i in range(4):\n",
    "    print('expected value: %d, predicted value: %d' %(y_XOR[i], model_xor.predict(X_XOR)[i]))"
   ]
  },
  {
   "cell_type": "markdown",
   "metadata": {},
   "source": [
    "This does not improve the result. The reason why this does not work is clear; it is not possible to separate the orange and blue points by one plane/line. But the perceptron with one neuron only is capable of 'generating' one plane, and the model is doomed to fail.\n",
    "\n",
    "The **Perceptron()** function has several parameters that can be adjusted but none of these will improve the classification. It also uses different learning rules than the ones specified in our model and different ways to minimize the difference between expected and predicted values. See the documentation for more [information](https://scikit-learn.org/stable/modules/generated/sklearn.linear_model.Perceptron.html). \n",
    "\n",
    "In order to improve the prediction for the XOR gate, or, in general, to classify more than two classes of data, we can add more neurons to the network. To modify our perceptron model for this includes significant work, which we can skip by falling back onto the **MLPClassifier()** [function](https://scikit-learn.org/stable/modules/generated/sklearn.neural_network.MLPClassifier.html#sklearn.neural_network.MLPClassifier) from *scikit learn*. This model is adjustable in that we can add more neurons, both to the same layer and to additional layers. This is best explained with the following figure:\n",
    "\n",
    "<br>\n",
    "<img src=\"./images/MLperceptron.svg\" width=\"500\" />\n",
    "<br>\n",
    "\n",
    "This network has $n$ input features, $m$ output labels, $i$ so-called hidden layers, each hidden layer containing a different number of neurons. The more neurons, the more complex tasks can be tackled with such an artificial neural network. More information can be found [here](https://scikit-learn.org/stable/modules/neural_networks_supervised.html).\n",
    "\n",
    "For modelling the *XOR* gate, we can do with only one hidden layer with two neurons. This will give us two times two weights and two bias terms. From these we can construct two planes that separate the *XOR* data points such that blue and orange dots are in different decision domains. The network looks something like this:\n",
    "\n",
    "<br>\n",
    "<img src=\"./images/perceptron_xor.svg\" width=\"300\" />\n",
    "<br>\n",
    "\n",
    "The following code implements this model with one hidden layer with two neurons."
   ]
  },
  {
   "cell_type": "code",
   "execution_count": 25,
   "metadata": {},
   "outputs": [],
   "source": [
    "#importing model from scikitlearn\n",
    "from sklearn.neural_network import MLPClassifier\n",
    "\n",
    "#defining the model\n",
    "#hidden_layer_sizes tells the model how many hidden layers with how many neurons to use. (2,) is one hidden layer with two neuron, (3,5) is two hidden layers, one with 3 and one with 5 neurons.\n",
    "#activation tells the model which activation function to use, here the sigmoid function\n",
    "MLP_xor = MLPClassifier(hidden_layer_sizes=(2,), activation='logistic', solver='lbfgs', max_iter=500)\n",
    "\n",
    "model_xor = MLP_xor.fit(X_XOR, y_XOR)"
   ]
  },
  {
   "cell_type": "markdown",
   "metadata": {},
   "source": [
    "There is a bunch of parameters in the **MLPClassifier** function that can be tuned to optimize learning, see the next cell. Again, check out the *scikit learn* site for more information."
   ]
  },
  {
   "cell_type": "code",
   "execution_count": 26,
   "metadata": {},
   "outputs": [
    {
     "name": "stdout",
     "output_type": "stream",
     "text": [
      "MLPClassifier(activation='logistic', alpha=0.0001, batch_size='auto',\n",
      "       beta_1=0.9, beta_2=0.999, early_stopping=False, epsilon=1e-08,\n",
      "       hidden_layer_sizes=(2,), learning_rate='constant',\n",
      "       learning_rate_init=0.001, max_iter=500, momentum=0.9,\n",
      "       n_iter_no_change=10, nesterovs_momentum=True, power_t=0.5,\n",
      "       random_state=None, shuffle=True, solver='lbfgs', tol=0.0001,\n",
      "       validation_fraction=0.1, verbose=False, warm_start=False)\n"
     ]
    }
   ],
   "source": [
    "print(model_xor)"
   ]
  },
  {
   "cell_type": "markdown",
   "metadata": {},
   "source": [
    "Comparing expected with predicted values:"
   ]
  },
  {
   "cell_type": "code",
   "execution_count": 27,
   "metadata": {},
   "outputs": [
    {
     "name": "stdout",
     "output_type": "stream",
     "text": [
      "expected value: 0, predicted value: 0\n",
      "expected value: 1, predicted value: 1\n",
      "expected value: 1, predicted value: 1\n",
      "expected value: 0, predicted value: 0\n"
     ]
    }
   ],
   "source": [
    "for i in range(4):\n",
    "    print('expected value: %d, predicted value: %d' %(y_XOR[i], model_xor.predict(X_XOR)[i]))"
   ]
  },
  {
   "cell_type": "markdown",
   "metadata": {},
   "source": [
    "With the larger network we also have more weights $w$ and bias terms $b$. These can be accessed through calling `coefs_`, which returns the weights between the layers, and `intercepts_`, which returns the bias terms."
   ]
  },
  {
   "cell_type": "code",
   "execution_count": 28,
   "metadata": {},
   "outputs": [
    {
     "name": "stdout",
     "output_type": "stream",
     "text": [
      "[array([[-6.16387229, -6.52235471],\n",
      "       [ 6.00432547,  6.88896574]]), array([[-14.68595556],\n",
      "       [ 14.37008448]])]\n",
      "[array([ 3.5954382 , -4.00876876]), array([7.49808037])]\n"
     ]
    }
   ],
   "source": [
    "print(model_xor.coefs_)\n",
    "print(model_xor.intercepts_)"
   ]
  },
  {
   "cell_type": "markdown",
   "metadata": {},
   "source": [
    "Taking the weights and bias terms between the input layer and the hidden layer allows for plotting the decision boundaries. This also helps to understand how a two-neuron perceptron can classify the *XOR* gate: one neuron separates one blue dot from the two orange dots (and the other blue dot). The second neuron separates the the orange dots (and the first blue dot) from the last blue dot. "
   ]
  },
  {
   "cell_type": "code",
   "execution_count": 29,
   "metadata": {},
   "outputs": [
    {
     "data": {
      "image/png": "[encoded data removed]",
      "text/plain": [
       "<Figure size 432x288 with 1 Axes>"
      ]
     },
     "metadata": {
      "needs_background": "light"
     },
     "output_type": "display_data"
    }
   ],
   "source": [
    "xtest = np.linspace(0,1,5)\n",
    "ytest1 = -1/model_xor.coefs_[0][1][0] * (model_xor.coefs_[0][0][0]*xtest + model_xor.intercepts_[0][0])\n",
    "ytest2 = -1/model_xor.coefs_[0][1][1] * (model_xor.coefs_[0][0][1]*xtest + model_xor.intercepts_[0][1])\n",
    "ytest3 = -1/model_xor.coefs_[1][1] * (model_xor.coefs_[1][0]*xtest + model_xor.intercepts_[1])\n",
    "\n",
    "#print(model_xor.coef_)\n",
    "#print(model_xor.intercept_)\n",
    "plt.plot(xtest,ytest1, c='b')\n",
    "plt.plot(xtest,ytest2, c='b')\n",
    "#plt.plot(xtest,ytest3, c='g')\n",
    "for i in range(4):\n",
    "    plt.plot(X_XOR[i,0], X_XOR[i,1], 'o', markersize=12, \n",
    "             c=np.where(y_XOR[i]<1,(1.0, 0.5, 0.25, 1.0),(0.0, 0.0, 0.75, 1.0)))\n",
    "             \n",
    "    i = i+1\n",
    "plt.gca().set_aspect('equal')\n",
    "plt.xticks((0,1))\n",
    "plt.yticks((0,1))\n",
    "plt.title('XOR')\n",
    "plt.xlabel('input X 1')\n",
    "plt.ylabel('input X 2')\n",
    "\n",
    "plt.show()"
   ]
  },
  {
   "cell_type": "markdown",
   "metadata": {},
   "source": [
    "More neurons and more hidden layers give greater flexibility to address more complex problems. This is at the heart of deep learning, the part of machine learning in which artificial neural networks with more than one or two hidden layers are used."
   ]
  },
  {
   "cell_type": "code",
   "execution_count": null,
   "metadata": {},
   "outputs": [],
   "source": []
  }
 ],
 "metadata": {
  "kernelspec": {
   "display_name": "Python 3",
   "language": "python",
   "name": "python3"
  },
  "language_info": {
   "codemirror_mode": {
    "name": "ipython",
    "version": 3
   },
   "file_extension": ".py",
   "mimetype": "text/x-python",
   "name": "python",
   "nbconvert_exporter": "python",
   "pygments_lexer": "ipython3",
   "version": "3.7.3"
  }
 },
 "nbformat": 4,
 "nbformat_minor": 2
}

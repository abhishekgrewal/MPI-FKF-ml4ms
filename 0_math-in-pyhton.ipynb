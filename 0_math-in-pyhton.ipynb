{
 "cells": [
  {
   "cell_type": "markdown",
   "metadata": {},
   "source": [
    "# (0) Intro on how to do Math with Python\n",
    "\n",
    "## MPI FKF study group\n",
    "\n",
    "There is no data analysis and hence machine learning without mathematics. This notebook gives a brief introduction on some of the ways math can be done in Python. The approach is a practical one and is of course not capable of capturing the full abstract nature of a mathermatical concept. A better name for the notebook might be *Calculating Values using Different Mathematical Operations in Python*.\n",
    "\n",
    "Particularly important are the notations for linear algebra operations as these will later be used in handling data and running our code. If you think of your data stored in a 1D array - a 1D catalog of values in broad terms - then this array can be interpreted as an vector. Multidimensional data can be stored in a matrix, a 2D array, or tensors of higher rank. Python offers efficient ways to do calculations with matrices, vector operations, etc.\n",
    "\n",
    "We can start start with the simplest operation, addition, $a+b$, <br>\n",
    "for example <code>2+3</code> "
   ]
  },
  {
   "cell_type": "code",
   "execution_count": 1,
   "metadata": {},
   "outputs": [
    {
     "data": {
      "text/plain": [
       "5"
      ]
     },
     "execution_count": 1,
     "metadata": {},
     "output_type": "execute_result"
    }
   ],
   "source": [
    "2+3"
   ]
  },
  {
   "cell_type": "markdown",
   "metadata": {},
   "source": [
    "same for subtraction $a-b$, <br>\n",
    "<code>2-3</code> <br>\n",
    "multiplication $a*b$ <br>\n",
    "<code>2*3</code> <br>\n",
    "and division $\\frac{a}{b}$ <br>\n",
    "<code>2/3</code>"
   ]
  },
  {
   "cell_type": "code",
   "execution_count": 2,
   "metadata": {},
   "outputs": [
    {
     "data": {
      "text/plain": [
       "-1"
      ]
     },
     "execution_count": 2,
     "metadata": {},
     "output_type": "execute_result"
    }
   ],
   "source": [
    "2-3"
   ]
  },
  {
   "cell_type": "code",
   "execution_count": 3,
   "metadata": {},
   "outputs": [
    {
     "data": {
      "text/plain": [
       "6"
      ]
     },
     "execution_count": 3,
     "metadata": {},
     "output_type": "execute_result"
    }
   ],
   "source": [
    "2*3"
   ]
  },
  {
   "cell_type": "code",
   "execution_count": 4,
   "metadata": {},
   "outputs": [
    {
     "data": {
      "text/plain": [
       "0.6666666666666666"
      ]
     },
     "execution_count": 4,
     "metadata": {},
     "output_type": "execute_result"
    }
   ],
   "source": [
    "2/3"
   ]
  },
  {
   "cell_type": "markdown",
   "metadata": {},
   "source": [
    "The package [*NumPy*](https://numpy.org/) is a powerful Python package for scientific computing and includes more advanced mathematical operations like the exponental function and square root.<br>\n",
    "\n",
    "$e^{(a+b)}$ <br>\n",
    "<code>np.exp(2+3)</code> <br>\n",
    "$\\sqrt{a+b}$<br>\n",
    "<code>np.sqrt(2+3)</code>"
   ]
  },
  {
   "cell_type": "code",
   "execution_count": 5,
   "metadata": {},
   "outputs": [
    {
     "data": {
      "text/plain": [
       "148.4131591025766"
      ]
     },
     "execution_count": 5,
     "metadata": {},
     "output_type": "execute_result"
    }
   ],
   "source": [
    "#first the NumPy package needs to be loaded with the following line of code\n",
    "#numpy is abbreviated as np, this is common practice that you will often see in other people's code\n",
    "\n",
    "import numpy as np\n",
    "\n",
    "np.exp(2+3)"
   ]
  },
  {
   "cell_type": "code",
   "execution_count": 6,
   "metadata": {},
   "outputs": [
    {
     "data": {
      "text/plain": [
       "2.23606797749979"
      ]
     },
     "execution_count": 6,
     "metadata": {},
     "output_type": "execute_result"
    }
   ],
   "source": [
    "np.sqrt(2+3)"
   ]
  },
  {
   "cell_type": "markdown",
   "metadata": {},
   "source": [
    "Later we will use tensors. A tensor is, in probably oversimplified terms, a generalized concept of matrix and vector. <br>\n",
    "A 0D tensor is a number. <br>\n",
    "A 1D tensor is a vector. <br>\n",
    "A 2D tensor is a matrix. <br>\n",
    "etc. <br>\n",
    "The name *Tensorflow* of Google's framework for machine learning highlights how important the concept of a tensor is. For now let's stick with the names vector and matrix since they are probably more familiar.\n",
    "\n",
    "A common notation for a vector is $\\vec{x}$, for the sake of consistency with many books and online references we will denote this vector as $\\mathbf{x}$.\n",
    "\n",
    "Thus, \n",
    "$\\mathbf{x} = \\left[ \\begin{matrix} x_1 \\\\ \\vdots \\\\ x_n \\end{matrix} \\right]$ \n",
    "is a column vector and\n",
    "$\\mathbf{x} = \\left[ \\begin{matrix} x_1 && \\cdots && x_n \\end{matrix} \\right]$ \n",
    "is a row vector with $n$ entries.\n",
    "\n",
    "In Python, we can write a vector as an array as\n",
    "\n",
    "<code>x = [1, 2, 9, 16]</code>\n",
    "\n",
    "Single elements $x_i$ with index $i$ can be addressed with the pointer $i$. In Python, counting starts with $0$ so that the first, or rather the zeroth element, is called with the index $i=0$, and the third (second) entry with the index $i=2$."
   ]
  },
  {
   "cell_type": "code",
   "execution_count": 7,
   "metadata": {},
   "outputs": [
    {
     "name": "stdout",
     "output_type": "stream",
     "text": [
      "1\n"
     ]
    }
   ],
   "source": [
    "x = [1, 2, 9, 16]\n",
    "i = 0\n",
    "print(x[i])"
   ]
  },
  {
   "cell_type": "code",
   "execution_count": 8,
   "metadata": {},
   "outputs": [
    {
     "name": "stdout",
     "output_type": "stream",
     "text": [
      "9\n"
     ]
    }
   ],
   "source": [
    "i = 2\n",
    "print(x[i])"
   ]
  },
  {
   "cell_type": "markdown",
   "metadata": {},
   "source": [
    "The same works for matrices with entries $x_{ij}$ in a $n \\times m$ matrix with $n$ rows and $m$ columns.\n",
    "\n",
    "$\\mathbf{x} = \\left[ \\begin{matrix} x_{11} && \\cdots && x_{1m} \\\\ \\vdots && \\ddots && \\vdots \\\\ x_{n1} && \\cdots && x_{nm}\\end{matrix} \\right]$ "
   ]
  },
  {
   "cell_type": "code",
   "execution_count": 9,
   "metadata": {},
   "outputs": [
    {
     "name": "stdout",
     "output_type": "stream",
     "text": [
      "16\n",
      "20\n"
     ]
    }
   ],
   "source": [
    "#matrix with four columns and two rows\n",
    "x = [ [1, 2, 9, 16], [10, 20, 30, 40] ]\n",
    "\n",
    "i = 0\n",
    "j = 3\n",
    "\n",
    "print(x[i][j]) #value is 16\n",
    "print(x[1][1]) #value is 20"
   ]
  },
  {
   "cell_type": "markdown",
   "metadata": {},
   "source": [
    "With *NumPy* it is easy to sum all entries in a vector by using the built-in function **sum()**.\n",
    "\n",
    "$$\\sum_{i=1}^n x_i$$\n",
    "\n",
    "<code>np.sum(x)</code>"
   ]
  },
  {
   "cell_type": "code",
   "execution_count": 10,
   "metadata": {},
   "outputs": [
    {
     "data": {
      "text/plain": [
       "28"
      ]
     },
     "execution_count": 10,
     "metadata": {},
     "output_type": "execute_result"
    }
   ],
   "source": [
    "x = [1, 2, 9, 16]\n",
    "np.sum(x)"
   ]
  },
  {
   "cell_type": "markdown",
   "metadata": {},
   "source": [
    "This works also for matrices and other mulitdimensional tensors."
   ]
  },
  {
   "cell_type": "code",
   "execution_count": 11,
   "metadata": {},
   "outputs": [
    {
     "data": {
      "text/plain": [
       "128"
      ]
     },
     "execution_count": 11,
     "metadata": {},
     "output_type": "execute_result"
    }
   ],
   "source": [
    "x = [ [1, 2, 9, 16], [10, 20, 30, 40] ]\n",
    "np.sum(x)"
   ]
  },
  {
   "cell_type": "markdown",
   "metadata": {},
   "source": [
    "Another useful property of a tensor is its number of elements. This can be calculated with the function **len()**.\n",
    "\n",
    "This only works for vectors (1D tensors). For a matrix (2D vector), the returned value is the number of entries in the array. Since a matrix is an array of arrays, it returns the number of arrays stored in the parent array."
   ]
  },
  {
   "cell_type": "code",
   "execution_count": 12,
   "metadata": {},
   "outputs": [
    {
     "name": "stdout",
     "output_type": "stream",
     "text": [
      "4\n",
      "2\n"
     ]
    }
   ],
   "source": [
    "x = [1, 2, 9, 16]\n",
    "y = [ [1, 2, 9, 16], [10, 20, 30, 40] ]\n",
    "\n",
    "print(len(x))\n",
    "print(len(y))"
   ]
  },
  {
   "cell_type": "markdown",
   "metadata": {},
   "source": [
    "With these two functions it is now easy to calculate the average (mean) of the entries in a vector\n",
    "\n",
    "$$\\frac{1}{n}\\sum_{i=1}^n x_i$$\n",
    "\n",
    "as <code>np.sum(x) / len(x)</code> \n",
    "\n",
    "or you can use the built-in function **average()** for this.\n",
    "\n",
    "<code>np.average(x)</code>"
   ]
  },
  {
   "cell_type": "code",
   "execution_count": 13,
   "metadata": {},
   "outputs": [
    {
     "name": "stdout",
     "output_type": "stream",
     "text": [
      "7.0\n",
      "7.0\n"
     ]
    }
   ],
   "source": [
    "print(np.sum(x) / len(x))\n",
    "print(np.average(x))"
   ]
  },
  {
   "cell_type": "markdown",
   "metadata": {},
   "source": [
    "Then of course the Euclidean norm (or L2-norm) is a useful measure to characterize a vector.\n",
    "\n",
    "$\\Vert x\\Vert_2 = \\sqrt{\\sum_{i=1}^n x_i^2}$\n",
    "\n",
    "The Euclidian norm and many other norms of a vector or a matrix can be calculated using the [**numpy.linal.norm** function](https://docs.scipy.org/doc/numpy/reference/generated/numpy.linalg.norm.html)\n",
    "\n",
    "A vector is then easily normlized by deviding each vector element by the norm:\n",
    "\n",
    "<code>x / LA.norm(x)</code>"
   ]
  },
  {
   "cell_type": "code",
   "execution_count": 14,
   "metadata": {},
   "outputs": [
    {
     "name": "stdout",
     "output_type": "stream",
     "text": [
      "18.49324200890693\n",
      "[0.05407381 0.10814761 0.48666426 0.86518091]\n"
     ]
    }
   ],
   "source": [
    "#the linalg modul needs to be imported first, abbreviated as LA\n",
    "\n",
    "from numpy import linalg as LA\n",
    "\n",
    "print(LA.norm(x))\n",
    "print(x / LA.norm(x))"
   ]
  },
  {
   "cell_type": "markdown",
   "metadata": {},
   "source": [
    "Note in the previous normalization how Python divides, and the same way multiplies, each entry of a vector (array) by a numer by using the code\n",
    "\n",
    "<code>a*x</code>\n",
    "\n",
    "which corresponds to the scalar multiplication\n",
    "\n",
    "$a\\mathbf{x}$\n",
    "\n",
    "This works the same way for matrices."
   ]
  },
  {
   "cell_type": "code",
   "execution_count": 15,
   "metadata": {},
   "outputs": [
    {
     "data": {
      "text/plain": [
       "array([[ 2,  4, 18, 32],\n",
       "       [20, 40, 60, 80]])"
      ]
     },
     "execution_count": 15,
     "metadata": {},
     "output_type": "execute_result"
    }
   ],
   "source": [
    "2*np.array(y)\n",
    "\n",
    "#I'm not sure here why the array y has to be specified explicitly as a numpy array.\n",
    "#Not doing this doubles the array, i.e. duplicates entries and makes the array twice as long. Try it out."
   ]
  },
  {
   "cell_type": "markdown",
   "metadata": {},
   "source": [
    "Addition of a constant to a vector/matrix works equally well.\n",
    "\n",
    "The mismatch in shapes between the matrix $\\mathbf{x}$ and the scalar $2$ is automatically captured by Python in a process called [broadcasting](https://docs.scipy.org/doc/numpy/user/basics.broadcasting.html). Shapes are adjusted such that the arithmetic operation becomes feasible.\n",
    "\n",
    "In <code>np.array(x)+2</code> the $2$ is broadcasted into a $4 \\times 1$ vector with all entries equal $2$.\n",
    "\n",
    "$\\mathbf{x} + c$ becoms \n",
    "$$\\left[ \\begin{matrix} x_1 \\\\ \\vdots \\\\ x_n \\end{matrix} \\right] + \\left[ \\begin{matrix} c \\\\ \\vdots \\\\ c \\end{matrix} \\right] = \\left[ \\begin{matrix} x_1+c \\\\ \\vdots \\\\ x_n+c \\end{matrix} \\right]$$"
   ]
  },
  {
   "cell_type": "code",
   "execution_count": 16,
   "metadata": {},
   "outputs": [
    {
     "data": {
      "text/plain": [
       "array([ 3,  4, 11, 18])"
      ]
     },
     "execution_count": 16,
     "metadata": {},
     "output_type": "execute_result"
    }
   ],
   "source": [
    "np.array(x)+2"
   ]
  },
  {
   "cell_type": "markdown",
   "metadata": {},
   "source": [
    "Further vector operations include the dot product between two vectors $\\mathbf{x_1}$ and $\\mathbf{x_2}$, which returns a scalar value\n",
    "\n",
    "$\\mathbf{x} \\cdot \\mathbf{y} = \\sum_{i=1}^n x_iy_i$\n",
    "\n",
    "as <code>np.dot(x,y)</code>\n",
    "\n",
    "and the Hadamard product (element-wise product), which returns another vector (matrix)\n",
    "\n",
    "$\\mathbf{x} \\circ \\mathbf{y} = \\left[ \\begin{matrix} x_{11} \\cdot y_{11} && \\cdots && x_{1m} \\cdot y_{1m} \\\\ \\vdots && \\ddots && \\vdots \\\\ x_{n1} \\cdot y_{n1} && \\cdots && x_{nm} \\cdot y_{nm}\\end{matrix} \\right]$\n",
    "\n",
    "using **multiply()**\n",
    "\n",
    "<code>np.multiply(x,y)</code>"
   ]
  },
  {
   "cell_type": "code",
   "execution_count": 17,
   "metadata": {},
   "outputs": [
    {
     "name": "stdout",
     "output_type": "stream",
     "text": [
      "96\n",
      "[ 1  4 27 64]\n"
     ]
    }
   ],
   "source": [
    "x = [1, 2, 9, 16]\n",
    "y = [1, 2, 3, 4]\n",
    "\n",
    "print(np.dot(x, y))\n",
    "print(np.multiply(x, y))"
   ]
  },
  {
   "cell_type": "markdown",
   "metadata": {},
   "source": [
    "The Hadamard product also works for matrices and tensors of higher rank."
   ]
  },
  {
   "cell_type": "code",
   "execution_count": 18,
   "metadata": {},
   "outputs": [
    {
     "data": {
      "text/plain": [
       "array([[ 1,  4, 27],\n",
       "       [ 2,  4, 18]])"
      ]
     },
     "execution_count": 18,
     "metadata": {},
     "output_type": "execute_result"
    }
   ],
   "source": [
    "x_2D = [ [1, 2, 3], [1, 1, 1] ]\n",
    "y_2D = [ [1, 2, 9], [2, 4, 18] ]\n",
    "\n",
    "np.multiply(x_2D, y_2D)"
   ]
  },
  {
   "cell_type": "markdown",
   "metadata": {},
   "source": [
    "Element-wise addition works with **np.add()** on vectors and matrices."
   ]
  },
  {
   "cell_type": "code",
   "execution_count": 19,
   "metadata": {},
   "outputs": [
    {
     "name": "stdout",
     "output_type": "stream",
     "text": [
      "[ 2  4 12 20]\n",
      "[[ 2  4 12]\n",
      " [ 3  5 19]]\n"
     ]
    }
   ],
   "source": [
    "print(np.add(x, y))\n",
    "print(np.add(x_2D, y_2D))"
   ]
  },
  {
   "cell_type": "markdown",
   "metadata": {},
   "source": [
    "The dot product can be used to multiply a matrix with a vector.\n",
    "\n",
    "$$ \\mathbf{x} \\cdot \\mathbf{w} = \\left[ \\begin{matrix} x_{11} && \\cdots && x_{1m} \\\\ \\vdots && \\ddots && \\vdots \\\\ x_{n1} && \\cdots && x_{nm}\\end{matrix} \\right] \\left[ \\begin{matrix} w_1 \\\\ \\vdots \\\\ w_m \\end{matrix} \\right] = \\left[ \\begin{matrix} \\sum_{i=1}^m x_{1i}w_{i} \\\\ \\vdots \\\\ \\sum_{i=1}^m x_{ni}w_{i} \\end{matrix} \\right] $$"
   ]
  },
  {
   "cell_type": "code",
   "execution_count": 20,
   "metadata": {},
   "outputs": [
    {
     "data": {
      "text/plain": [
       "array([14,  6])"
      ]
     },
     "execution_count": 20,
     "metadata": {},
     "output_type": "execute_result"
    }
   ],
   "source": [
    "w = [1, 2, 3]\n",
    "\n",
    "np.dot(x_2D, w)"
   ]
  },
  {
   "cell_type": "markdown",
   "metadata": {},
   "source": [
    "There are many other built-in functions available in Python and particularly in *NumPy*.\n",
    "\n",
    "But you can also define your own functions in Python $f:X \\to Y$, i.e. $y=f(x)$. This is done using the **def** keyword.\n",
    "\n",
    "<code>def my_function(x):\n",
    "    y = ...\n",
    "    return y</code>\n",
    "    \n",
    "For example, we can define a function that returns the squared sine of the argument $x$."
   ]
  },
  {
   "cell_type": "code",
   "execution_count": 21,
   "metadata": {},
   "outputs": [
    {
     "data": {
      "text/plain": [
       "0.08733219254516084"
      ]
     },
     "execution_count": 21,
     "metadata": {},
     "output_type": "execute_result"
    }
   ],
   "source": [
    "def squared_sine(x):\n",
    "    y = (np.sin(x))*(np.sin(x))\n",
    "    return y\n",
    "\n",
    "\n",
    "squared_sine(0.3)"
   ]
  },
  {
   "cell_type": "code",
   "execution_count": null,
   "metadata": {},
   "outputs": [],
   "source": []
  }
 ],
 "metadata": {
  "kernelspec": {
   "display_name": "Python 3",
   "language": "python",
   "name": "python3"
  },
  "language_info": {
   "codemirror_mode": {
    "name": "ipython",
    "version": 3
   },
   "file_extension": ".py",
   "mimetype": "text/x-python",
   "name": "python",
   "nbconvert_exporter": "python",
   "pygments_lexer": "ipython3",
   "version": "3.7.3"
  }
 },
 "nbformat": 4,
 "nbformat_minor": 2
}

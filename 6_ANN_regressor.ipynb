{
 "cells": [
  {
   "cell_type": "markdown",
   "metadata": {},
   "source": [
    "# (6) Practical guide toward artificial neural networks for regression\n",
    "\n",
    "## introduction to machine learning for materials science\n",
    "\n",
    "The rise of artificial neural networks is driven by their extraordinary versatility. They can classify data, but unlike the previously discussed perceptron with non-linear decision boundaries and on data, which is not clearly 'spatially' separated. They can be used for image recognition when adequately modified, used for extrapolation of time series, and a lot more. Some of these approaches might be covered in the future. \n",
    "Here, we will focus on perceptrons for (non-linear) regression, i.e. for interpolation, as this is what we have seen so far in certain depth, and because it offers an intuitive approach towards neural networks.\n",
    "We will use the [*Keras*](https://keras.io/) library will be used for this, which works on top of Google's [*TensorFlow*](https://www.tensorflow.org/) platform. Using *Keras* it is easy to set up neural networks for different tasks as much of the underlying code is optimized and is running under the hood. We thus do not have to worry much about the implementation and can build designer networks specific to the required task. This is like using the **Perceptron** function implemented in *scikit-learn* instead of our self-written perceptron code. \n",
    "\n",
    "As we have seen previously, the original perceptron consists of one input layer, one so-called hidden layer, and one output layer. This allows for linear regression and classfication of linearly separable data points. We also used the perceptrons with more than one neuron in the hidden layer for classification of the XOR-gate, for which two linear decision boundaries are required. Similarly, we can construct a neural network with more than one hidden neuron for fitting non-linear function.\n",
    "\n",
    "For example, the function *abs()*, which returns the absolute value of the argument, cannot be fitted by one single linear line. Two fitting regions are required and neural networks can find these automatically. First, we define the required function and then define a neural network using the multilayer perceptron from *scikit-learn*, and then the same using *Keras*."
   ]
  },
  {
   "cell_type": "code",
   "execution_count": 1,
   "metadata": {},
   "outputs": [],
   "source": [
    "#importing relevant libraries\n",
    "import numpy as np\n",
    "from sklearn.neural_network import MLPRegressor\n",
    "\n",
    "#setting some parameters\n",
    "a = 0\n",
    "\n",
    "#defining the absol() functions to be fitted\n",
    "def absol(x):\n",
    "    y = np.abs(x)+a\n",
    "    return y\n",
    "\n",
    "\n",
    "#some data points in which the functions operate\n",
    "X = np.arange(-10,10,0.3).reshape(-1,1)\n",
    "y = absol(X)\n",
    "\n",
    "#defining the model using the MLPRegressor perceptron from scikit-learn\n",
    "#for fitting the abssol()\n",
    "mlp_absol = MLPRegressor(hidden_layer_sizes=(2,), activation='relu', solver='lbfgs', max_iter=1000)\n",
    "\n",
    "#using the above defined model for fitting the absol() function\n",
    "model_absol = mlp_absol.fit(X, np.ravel(y))"
   ]
  },
  {
   "cell_type": "markdown",
   "metadata": {},
   "source": [
    "Now that the the fit is done, we can compare the original function absol() (blue line) to the fitted datapoints (orange).\n",
    "If instead of 2 neurons only 1 is used in the hidden layer by setting `hidden_layer_sizes=(1,)`, the fit does not work. Try it out by modifying the above cell.\n",
    "\n",
    "There are other parameters to be set like the activation function, the solver, and the maximum number of iterations (learning cycles). The fit will depend on these parameters and changing them will change how fast, or if at all, the fit returns useful results.\n",
    "\n",
    "One of the two neurons in the hidden layer is trained to fit one branch of the abs() function, one for the positive values, one for the negative values. It's a good excercise to figure out why this is so by looking at the weights and bias terms. One key element you need to understand is what the [ReLU](https://en.wikipedia.org/wiki/Rectifier_(neural_networks)) activation function is doing."
   ]
  },
  {
   "cell_type": "code",
   "execution_count": 9,
   "metadata": {},
   "outputs": [
    {
     "data": {
      "image/png": "[encoded data removed]",
      "text/plain": [
       "<Figure size 432x288 with 1 Axes>"
      ]
     },
     "metadata": {
      "needs_background": "light"
     },
     "output_type": "display_data"
    },
    {
     "name": "stdout",
     "output_type": "stream",
     "text": [
      "[array([[-1.58434945,  1.78315803]]), array([[0.63118012],\n",
      "       [0.56080944]])]\n",
      "[array([-0.1373037 , -0.15450884]), array([0.08660565])]\n"
     ]
    }
   ],
   "source": [
    "import matplotlib.pyplot as plt\n",
    "\n",
    "#plotting the absol() function in the aboves pecified data range as a blue line\n",
    "plt.plot(X, absol(X))\n",
    "#plotting the predicted values (fit) from the modle as orange dots\n",
    "plt.plot(X, model_absol.predict(X), 'o', markersize=3)\n",
    "\n",
    "plt.show()\n",
    "\n",
    "#printing the weights and the bias terms of the opitimzed model\n",
    "print(model_absol.coefs_)\n",
    "print(model_absol.intercepts_)"
   ]
  },
  {
   "cell_type": "markdown",
   "metadata": {},
   "source": [
    "Some notes on how the neural networks here learn and what is happening in the background. Skip this part and jump to the **Neural networks with *Keras*** section if you are not interested at the moment in the *how* it works but still want to set up a neural network.\n",
    "\n",
    "### Forward propagation\n",
    "\n",
    "The networks we use are called feed-forward propagating networks because the input from the input layer is fed forward to the first hidden layer by calculating the weighted sum, then the activation function is applied, and the output of the hidden layer is again fed forward to the output layer, again as weighted sum. Alternatively, if more than one hidden layer is present, the input propagates through the network from input layer, to first hidden layer, to second hidden layer, etc, until the output layer. Tensors are used to encode the input data and for all subsequent calculations of the weighted sums, activation functions, etc.\n",
    "See [here](https://ml-cheatsheet.readthedocs.io/en/latest/forwardpropagation.html) and [here](https://en.wikipedia.org/wiki/Feedforward_neural_network) for more information on forward propagating neural networks.\n",
    "\n",
    "### Loss function\n",
    "\n",
    "Somehow we need criteria to judge how well the model (fit) is mimicking our data. This is commonly called the loss function. For linear regression, we can use the mean squared error $\\sum_i (y_i-\\hat{y}_i)^2$, where $y_i$ is the expected value (the provided data point), and $\\hat{y}_i$ the predicted value by the model. For a good fit, mean squared error should be as small as possible, minimizing the differences between expected and predicted values. Thus, the loss function needs to be minimized. Ideally, we can find the minimum in the loss function, which corresponds to a point with zero gradient. Several loss functions can be used, see [here](https://ml-cheatsheet.readthedocs.io/en/latest/loss_functions.html) and [here](https://en.wikipedia.org/wiki/Loss_function). \n",
    "\n",
    "### Backward propagation\n",
    "\n",
    "In order to minimize the loss function, the weights and bias terms in the neural network need to be adjusted. This is achieved by backward propagation and trains the network. In other words, the neural network 'learns' the weights and bias terms that minimize the loss function. The way the network's parameters are updated depends on the chosen optimizer. What the optimizers often have in common is that the error (the value of the loss function) is propagated from the output layer back to towards the input layer. Since we want to minimize the loss and find the point of zero gradient, we adjust the parameters by a term proportional to the (negative) gradient of the loss function ([gradient descent](https://ml-cheatsheet.readthedocs.io/en/latest/gradient_descent.html)). Since the output is a function of all the weights and bias terms (fed through the activation functions), the chain rule is used to find the corresponding way a given weight needs to be updated. More on optimizers [here](https://medium.com/@sdoshi579/optimizers-for-training-neural-network-59450d71caf6).\n",
    "See [here](https://ml-cheatsheet.readthedocs.io/en/latest/backpropagation.html) and [here](https://en.wikipedia.org/wiki/Backpropagation) for more information on backpropagation.\n",
    "\n",
    "### Activation function\n",
    "\n",
    "The activation function plays a decisive role in learning the network's parameters. Not all activation functions are suitable for a given task. We have used the sigmoid function previously, other typical functions are the ReLU function and the hyperbolic tangent.\n",
    "More info [here](https://ml-cheatsheet.readthedocs.io/en/latest/activation_functions.html) and [here](https://en.wikipedia.org/wiki/Activation_function)\n",
    "\n",
    "Each of these certainly need a more extensive treatment to make them justice. But there is plenty information out there on the internet to read up on them and for now we will forgo a more detailed account.\n",
    "\n",
    "What needs to be remembered that different activation functions, loss functions, and optimizers yield different results. Although some are obvious choices, depending on what one wants to achieve, testing these to find a suitable model is at the heart of using neural networks.\n",
    "\n",
    "### Neural networks with *Keras*\n",
    "\n",
    "Setting up a neural network with any number of hidden layers and neurons is straigt forward. The [**Sequential**](https://keras.io/models/sequential/) model needs to be imported, which is used to build the fully connected network structure, i.e. the output of each neuron in one layer is the input to all neurons of the following layer. This is achieved with the [**Dense**](https://keras.io/layers/core/#dense) keyword. The [**Activation**](https://keras.io/activations/) library loads implemented activation functions. Loss functions can be found [here](https://keras.io/losses/).\n",
    "\n",
    "With this we can build the above specified one layer perceptron as follows."
   ]
  },
  {
   "cell_type": "code",
   "execution_count": 3,
   "metadata": {},
   "outputs": [
    {
     "name": "stderr",
     "output_type": "stream",
     "text": [
      "Using TensorFlow backend.\n"
     ]
    },
    {
     "name": "stdout",
     "output_type": "stream",
     "text": [
      "WARNING:tensorflow:From C:\\Users\\gutzler\\AppData\\Local\\Continuum\\anaconda3\\lib\\site-packages\\tensorflow\\python\\framework\\op_def_library.py:263: colocate_with (from tensorflow.python.framework.ops) is deprecated and will be removed in a future version.\n",
      "Instructions for updating:\n",
      "Colocations handled automatically by placer.\n"
     ]
    }
   ],
   "source": [
    "#importing keras and relevant libraries\n",
    "from keras.models import Sequential\n",
    "from keras.layers.core import Dense, Activation\n",
    "\n",
    "#specifying the number of neurons in the hidden layer\n",
    "n_neurons = 2\n",
    "\n",
    "#create a sequential model (with name 'model'), in which the output of one layer is the input of the following layer\n",
    "model = Sequential()\n",
    "\n",
    "#add one dense layer to the model, this is the hidden layer. \n",
    "#here, the input and output dimension (units, as in neurons in the layer) needs to be specified.\n",
    "#the input layer is implicit and does not need to be explicitly specified.\n",
    "#the input dimension is one, since our input x as argument of the abs() funciton is one dimensional.\n",
    "#the output dimension (units) is 2 (n_neurons specified above). This sets the number of neurons in this layer.\n",
    "model.add(Dense(units=n_neurons, input_dim=1))\n",
    "#for this layer we set the activation function to ReLU\n",
    "model.add(Activation(\"relu\"))\n",
    "\n",
    "#add one more layer, the output layer. the input dimension is implicit \n",
    "#and takes the value of units of the previous layer.\n",
    "#specify one neuron, the y=f(x)=abs(x)\n",
    "model.add(Dense(units=1))\n",
    "\n",
    "#compile the model with a loss function (mean_squared_error) and an optimizer (sge)\n",
    "model.compile(loss='mean_squared_error', optimizer='sgd')"
   ]
  },
  {
   "cell_type": "markdown",
   "metadata": {},
   "source": [
    "The above cell specifies the network topology, i.e. how many layers, how many neurons, and connectivity.\n",
    "The following cell trains the network to find a fit for the abs() function. Turns out this is rather tricky and only a few training runs find a suitable fit."
   ]
  },
  {
   "cell_type": "code",
   "execution_count": 4,
   "metadata": {},
   "outputs": [
    {
     "name": "stdout",
     "output_type": "stream",
     "text": [
      "WARNING:tensorflow:From C:\\Users\\gutzler\\AppData\\Local\\Continuum\\anaconda3\\lib\\site-packages\\tensorflow\\python\\ops\\math_ops.py:3066: to_int32 (from tensorflow.python.ops.math_ops) is deprecated and will be removed in a future version.\n",
      "Instructions for updating:\n",
      "Use tf.cast instead.\n"
     ]
    }
   ],
   "source": [
    "#train the model using the fit() function.\n",
    "#the number of learning cycles is set using epochs\n",
    "#verbose=1 prints the updated loss function after each training cycle\n",
    "\n",
    "res = model.fit(X, y, epochs=1000, verbose=0)"
   ]
  },
  {
   "cell_type": "code",
   "execution_count": 5,
   "metadata": {},
   "outputs": [
    {
     "data": {
      "image/png": "[encoded data removed]",
      "text/plain": [
       "<Figure size 432x288 with 1 Axes>"
      ]
     },
     "metadata": {
      "needs_background": "light"
     },
     "output_type": "display_data"
    }
   ],
   "source": [
    "plt.plot(X, absol(X))\n",
    "plt.plot(X, model.predict(X), 'o', markersize=3)\n",
    "\n",
    "plt.show()"
   ]
  },
  {
   "cell_type": "markdown",
   "metadata": {},
   "source": [
    "Fitting the abs() function works (sometimes) with two neurons. But also much more complex functions can be fitted with neural networks. In fact, according to the [universal approximation theorem](https://en.wikipedia.org/wiki/Universal_approximation_theorem), a sufficiently large neural network can approximate any continuous function. Artificial neural networks are thus suitable for data interpolation, even if the arithmetic function underlying the data points is unknown. \n",
    "\n",
    "We can test this on any arbitrary function."
   ]
  },
  {
   "cell_type": "code",
   "execution_count": 6,
   "metadata": {},
   "outputs": [
    {
     "data": {
      "image/png": "[encoded data removed]",
      "text/plain": [
       "<Figure size 432x288 with 1 Axes>"
      ]
     },
     "metadata": {
      "needs_background": "light"
     },
     "output_type": "display_data"
    }
   ],
   "source": [
    "#defining some function\n",
    "def arb_function(x):\n",
    "    y = np.sin(x**2)+x\n",
    "    return y\n",
    "\n",
    "#setting the interval of X and compute y\n",
    "X = np.arange(-3.,3,0.01).reshape(-1,1)\n",
    "y = arb_function(X)\n",
    "\n",
    "#plotting the function\n",
    "plt.plot(X, arb_function(X))\n",
    "\n",
    "plt.show()"
   ]
  },
  {
   "cell_type": "markdown",
   "metadata": {},
   "source": [
    "This function is sufficiently complex that two neurons will not do the job of yielding a nice fit. Indeed, even a single hidden layer with 1000 neurons does not do a great job."
   ]
  },
  {
   "cell_type": "code",
   "execution_count": 7,
   "metadata": {},
   "outputs": [
    {
     "data": {
      "image/png": "[encoded data removed]",
      "text/plain": [
       "<Figure size 432x288 with 1 Axes>"
      ]
     },
     "metadata": {
      "needs_background": "light"
     },
     "output_type": "display_data"
    },
    {
     "name": "stdout",
     "output_type": "stream",
     "text": [
      "_________________________________________________________________\n",
      "Layer (type)                 Output Shape              Param #   \n",
      "=================================================================\n",
      "dense_3 (Dense)              (None, 1000)              2000      \n",
      "_________________________________________________________________\n",
      "activation_2 (Activation)    (None, 1000)              0         \n",
      "_________________________________________________________________\n",
      "dense_4 (Dense)              (None, 1)                 1001      \n",
      "=================================================================\n",
      "Total params: 3,001\n",
      "Trainable params: 3,001\n",
      "Non-trainable params: 0\n",
      "_________________________________________________________________\n"
     ]
    }
   ],
   "source": [
    "#setting number of neurons in the hidden layer\n",
    "n_neurons = 1000\n",
    "\n",
    "#building the model with one hidden layer and ReLU activation function\n",
    "#1 input and 1 output neuron.\n",
    "model_1 = Sequential()\n",
    "model_1.add(Dense(units=n_neurons, input_dim=1))\n",
    "model_1.add(Activation(\"relu\"))\n",
    "model_1.add(Dense(units=1))\n",
    "model_1.compile(loss='mean_squared_error', optimizer='adam')\n",
    "\n",
    "#training the network with 1000 learning cycles\n",
    "res_1 = model_1.fit(X, y, epochs=1000, verbose=0)\n",
    "\n",
    "#plotting the original function (blue line) and the predicted data (orange dots)\n",
    "plt.plot(X, arb_function(X))\n",
    "plt.plot(X, model_1.predict(X), 'o', markersize=1)\n",
    "\n",
    "plt.show()\n",
    "\n",
    "#this prints a summary of the network, i.e. number of layers, neurons and parameters (weights, bias)\n",
    "model_1.summary()"
   ]
  },
  {
   "cell_type": "markdown",
   "metadata": {},
   "source": [
    "The previous network has 1000 neurons in the hidden layer, clearly not sufficient to nicely fit the function at its ends. A two-layer network with only 100 neurons each performs much better."
   ]
  },
  {
   "cell_type": "code",
   "execution_count": 8,
   "metadata": {},
   "outputs": [
    {
     "data": {
      "image/png": "[encoded data removed]",
      "text/plain": [
       "<Figure size 432x288 with 1 Axes>"
      ]
     },
     "metadata": {
      "needs_background": "light"
     },
     "output_type": "display_data"
    },
    {
     "name": "stdout",
     "output_type": "stream",
     "text": [
      "_________________________________________________________________\n",
      "Layer (type)                 Output Shape              Param #   \n",
      "=================================================================\n",
      "dense_5 (Dense)              (None, 100)               200       \n",
      "_________________________________________________________________\n",
      "activation_3 (Activation)    (None, 100)               0         \n",
      "_________________________________________________________________\n",
      "dense_6 (Dense)              (None, 100)               10100     \n",
      "_________________________________________________________________\n",
      "activation_4 (Activation)    (None, 100)               0         \n",
      "_________________________________________________________________\n",
      "dense_7 (Dense)              (None, 1)                 101       \n",
      "=================================================================\n",
      "Total params: 10,401\n",
      "Trainable params: 10,401\n",
      "Non-trainable params: 0\n",
      "_________________________________________________________________\n"
     ]
    }
   ],
   "source": [
    "n_neurons = 100\n",
    "model_2 = Sequential()\n",
    "model_2.add(Dense(units=n_neurons, input_dim=1))\n",
    "model_2.add(Activation(\"relu\"))\n",
    "model_2.add(Dense(units=n_neurons))\n",
    "model_2.add(Activation(\"relu\"))\n",
    "model_2.add(Dense(units=1))\n",
    "model_2.compile(loss='mean_squared_error', optimizer='adam')\n",
    "\n",
    "res_2 = model_2.fit(X, y, epochs=1000, verbose=0)\n",
    "\n",
    "plt.plot(X, arb_function(X))\n",
    "plt.plot(X, model_2.predict(X), 'o', markersize=1)\n",
    "\n",
    "plt.show()\n",
    "\n",
    "model_2.summary()"
   ]
  },
  {
   "cell_type": "markdown",
   "metadata": {},
   "source": [
    "Although the number of neurons is only one-fifth in the 2-layer network compared to the single-layer network, the fit looks visually much nicer. Comparing the model summaries tells us why this is so: the number of adjustable parameters (weights and bias terms) is three times larger in the two-layer network due to the many connections between the two hidden layers. And as John von Neumann appears to have [said](https://en.wikiquote.org/wiki/John_von_Neumann) '*With four parameters I can fit an elephant, and with five I can make him wiggle his trunk.*' This, in consequence, means that overfitting can become a serious problem in using machine learning algorithms, in particular large neural networks."
   ]
  }
 ],
 "metadata": {
  "kernelspec": {
   "display_name": "Python 3",
   "language": "python",
   "name": "python3"
  },
  "language_info": {
   "codemirror_mode": {
    "name": "ipython",
    "version": 3
   },
   "file_extension": ".py",
   "mimetype": "text/x-python",
   "name": "python",
   "nbconvert_exporter": "python",
   "pygments_lexer": "ipython3",
   "version": "3.7.3"
  }
 },
 "nbformat": 4,
 "nbformat_minor": 2
}
